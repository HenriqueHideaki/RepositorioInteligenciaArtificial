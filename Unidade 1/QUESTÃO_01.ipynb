{
  "nbformat": 4,
  "nbformat_minor": 0,
  "metadata": {
    "colab": {
      "provenance": [],
      "collapsed_sections": [],
      "authorship_tag": "ABX9TyOPVrGaA0BYpvFNaDMiKLXB",
      "include_colab_link": true
    },
    "kernelspec": {
      "name": "python3",
      "display_name": "Python 3"
    },
    "language_info": {
      "name": "python"
    }
  },
  "cells": [
    {
      "cell_type": "markdown",
      "metadata": {
        "id": "view-in-github",
        "colab_type": "text"
      },
      "source": [
        "<a href=\"https://colab.research.google.com/github/HenriqueHideaki/RepositorioInteligenciaArtificial/blob/main/QUEST%C3%83O_01.ipynb\" target=\"_parent\"><img src=\"https://colab.research.google.com/assets/colab-badge.svg\" alt=\"Open In Colab\"/></a>"
      ]
    },
    {
      "cell_type": "markdown",
      "source": [
        "##1-) A tabela de dados abaixo ilustra a aplicação do método Naïve-Bayes. Um determinado banco deve decidir se um cliente deve ou não receber um empréstimo bancário em função da sua condição de bom ou mau pagador. Considerando os dados de treinamento abaixo, aplique o classificador Naive-Bayes, para atribuir a classe (rótulo) para os registros 12 e 13:\n",
        "\n"
      ],
      "metadata": {
        "id": "95P7xDd59d-n"
      }
    },
    {
      "cell_type": "code",
      "execution_count": null,
      "metadata": {
        "id": "HbJD889X9caT"
      },
      "outputs": [],
      "source": [
        "from sklearn.naive_bayes import GaussianNB"
      ]
    },
    {
      "cell_type": "code",
      "source": [
        "import pandas as pd"
      ],
      "metadata": {
        "id": "argvZ2IZ9lbh"
      },
      "execution_count": null,
      "outputs": []
    },
    {
      "cell_type": "code",
      "source": [
        "base_risco_credito = pd.read_csv('/content/RiscoCredito.csv', encoding = \"UTF-8\", sep = \";\")"
      ],
      "metadata": {
        "id": "jJ8ympMO9l0h"
      },
      "execution_count": null,
      "outputs": []
    },
    {
      "cell_type": "code",
      "source": [
        "base_risco_credito"
      ],
      "metadata": {
        "colab": {
          "base_uri": "https://localhost:8080/",
          "height": 394
        },
        "id": "zLdJAGkT9q7q",
        "outputId": "6ce4dc12-9f9a-4d0f-b721-de3f81c4f1b4"
      },
      "execution_count": null,
      "outputs": [
        {
          "output_type": "execute_result",
          "data": {
            "text/plain": [
              "   casa propria estado civil  carro rendimentos bom pagador\n",
              "0           sim     solteiro    sim        alto         não\n",
              "1           não       casado    sim       médio         não\n",
              "2           não     solteiro    não       baixo         não\n",
              "3           sim       casado    sim       alto          não\n",
              "4           não   divorciado    não       médio         sim\n",
              "5           não       casado    não       baixo         não\n",
              "6           sim   divorciado    sim        alto         sim\n",
              "7           não     solteiro    sim       médio        sim \n",
              "8           não       casado   sim        baixo         não\n",
              "9           não     solteiro    não       médio         sim\n",
              "10          sim   divorciado    não       médio         não"
            ],
            "text/html": [
              "\n",
              "  <div id=\"df-904c8d32-6c69-43a9-a3a8-7a35e5778338\">\n",
              "    <div class=\"colab-df-container\">\n",
              "      <div>\n",
              "<style scoped>\n",
              "    .dataframe tbody tr th:only-of-type {\n",
              "        vertical-align: middle;\n",
              "    }\n",
              "\n",
              "    .dataframe tbody tr th {\n",
              "        vertical-align: top;\n",
              "    }\n",
              "\n",
              "    .dataframe thead th {\n",
              "        text-align: right;\n",
              "    }\n",
              "</style>\n",
              "<table border=\"1\" class=\"dataframe\">\n",
              "  <thead>\n",
              "    <tr style=\"text-align: right;\">\n",
              "      <th></th>\n",
              "      <th>casa propria</th>\n",
              "      <th>estado civil</th>\n",
              "      <th>carro</th>\n",
              "      <th>rendimentos</th>\n",
              "      <th>bom pagador</th>\n",
              "    </tr>\n",
              "  </thead>\n",
              "  <tbody>\n",
              "    <tr>\n",
              "      <th>0</th>\n",
              "      <td>sim</td>\n",
              "      <td>solteiro</td>\n",
              "      <td>sim</td>\n",
              "      <td>alto</td>\n",
              "      <td>não</td>\n",
              "    </tr>\n",
              "    <tr>\n",
              "      <th>1</th>\n",
              "      <td>não</td>\n",
              "      <td>casado</td>\n",
              "      <td>sim</td>\n",
              "      <td>médio</td>\n",
              "      <td>não</td>\n",
              "    </tr>\n",
              "    <tr>\n",
              "      <th>2</th>\n",
              "      <td>não</td>\n",
              "      <td>solteiro</td>\n",
              "      <td>não</td>\n",
              "      <td>baixo</td>\n",
              "      <td>não</td>\n",
              "    </tr>\n",
              "    <tr>\n",
              "      <th>3</th>\n",
              "      <td>sim</td>\n",
              "      <td>casado</td>\n",
              "      <td>sim</td>\n",
              "      <td>alto</td>\n",
              "      <td>não</td>\n",
              "    </tr>\n",
              "    <tr>\n",
              "      <th>4</th>\n",
              "      <td>não</td>\n",
              "      <td>divorciado</td>\n",
              "      <td>não</td>\n",
              "      <td>médio</td>\n",
              "      <td>sim</td>\n",
              "    </tr>\n",
              "    <tr>\n",
              "      <th>5</th>\n",
              "      <td>não</td>\n",
              "      <td>casado</td>\n",
              "      <td>não</td>\n",
              "      <td>baixo</td>\n",
              "      <td>não</td>\n",
              "    </tr>\n",
              "    <tr>\n",
              "      <th>6</th>\n",
              "      <td>sim</td>\n",
              "      <td>divorciado</td>\n",
              "      <td>sim</td>\n",
              "      <td>alto</td>\n",
              "      <td>sim</td>\n",
              "    </tr>\n",
              "    <tr>\n",
              "      <th>7</th>\n",
              "      <td>não</td>\n",
              "      <td>solteiro</td>\n",
              "      <td>sim</td>\n",
              "      <td>médio</td>\n",
              "      <td>sim</td>\n",
              "    </tr>\n",
              "    <tr>\n",
              "      <th>8</th>\n",
              "      <td>não</td>\n",
              "      <td>casado</td>\n",
              "      <td>sim</td>\n",
              "      <td>baixo</td>\n",
              "      <td>não</td>\n",
              "    </tr>\n",
              "    <tr>\n",
              "      <th>9</th>\n",
              "      <td>não</td>\n",
              "      <td>solteiro</td>\n",
              "      <td>não</td>\n",
              "      <td>médio</td>\n",
              "      <td>sim</td>\n",
              "    </tr>\n",
              "    <tr>\n",
              "      <th>10</th>\n",
              "      <td>sim</td>\n",
              "      <td>divorciado</td>\n",
              "      <td>não</td>\n",
              "      <td>médio</td>\n",
              "      <td>não</td>\n",
              "    </tr>\n",
              "  </tbody>\n",
              "</table>\n",
              "</div>\n",
              "      <button class=\"colab-df-convert\" onclick=\"convertToInteractive('df-904c8d32-6c69-43a9-a3a8-7a35e5778338')\"\n",
              "              title=\"Convert this dataframe to an interactive table.\"\n",
              "              style=\"display:none;\">\n",
              "        \n",
              "  <svg xmlns=\"http://www.w3.org/2000/svg\" height=\"24px\"viewBox=\"0 0 24 24\"\n",
              "       width=\"24px\">\n",
              "    <path d=\"M0 0h24v24H0V0z\" fill=\"none\"/>\n",
              "    <path d=\"M18.56 5.44l.94 2.06.94-2.06 2.06-.94-2.06-.94-.94-2.06-.94 2.06-2.06.94zm-11 1L8.5 8.5l.94-2.06 2.06-.94-2.06-.94L8.5 2.5l-.94 2.06-2.06.94zm10 10l.94 2.06.94-2.06 2.06-.94-2.06-.94-.94-2.06-.94 2.06-2.06.94z\"/><path d=\"M17.41 7.96l-1.37-1.37c-.4-.4-.92-.59-1.43-.59-.52 0-1.04.2-1.43.59L10.3 9.45l-7.72 7.72c-.78.78-.78 2.05 0 2.83L4 21.41c.39.39.9.59 1.41.59.51 0 1.02-.2 1.41-.59l7.78-7.78 2.81-2.81c.8-.78.8-2.07 0-2.86zM5.41 20L4 18.59l7.72-7.72 1.47 1.35L5.41 20z\"/>\n",
              "  </svg>\n",
              "      </button>\n",
              "      \n",
              "  <style>\n",
              "    .colab-df-container {\n",
              "      display:flex;\n",
              "      flex-wrap:wrap;\n",
              "      gap: 12px;\n",
              "    }\n",
              "\n",
              "    .colab-df-convert {\n",
              "      background-color: #E8F0FE;\n",
              "      border: none;\n",
              "      border-radius: 50%;\n",
              "      cursor: pointer;\n",
              "      display: none;\n",
              "      fill: #1967D2;\n",
              "      height: 32px;\n",
              "      padding: 0 0 0 0;\n",
              "      width: 32px;\n",
              "    }\n",
              "\n",
              "    .colab-df-convert:hover {\n",
              "      background-color: #E2EBFA;\n",
              "      box-shadow: 0px 1px 2px rgba(60, 64, 67, 0.3), 0px 1px 3px 1px rgba(60, 64, 67, 0.15);\n",
              "      fill: #174EA6;\n",
              "    }\n",
              "\n",
              "    [theme=dark] .colab-df-convert {\n",
              "      background-color: #3B4455;\n",
              "      fill: #D2E3FC;\n",
              "    }\n",
              "\n",
              "    [theme=dark] .colab-df-convert:hover {\n",
              "      background-color: #434B5C;\n",
              "      box-shadow: 0px 1px 3px 1px rgba(0, 0, 0, 0.15);\n",
              "      filter: drop-shadow(0px 1px 2px rgba(0, 0, 0, 0.3));\n",
              "      fill: #FFFFFF;\n",
              "    }\n",
              "  </style>\n",
              "\n",
              "      <script>\n",
              "        const buttonEl =\n",
              "          document.querySelector('#df-904c8d32-6c69-43a9-a3a8-7a35e5778338 button.colab-df-convert');\n",
              "        buttonEl.style.display =\n",
              "          google.colab.kernel.accessAllowed ? 'block' : 'none';\n",
              "\n",
              "        async function convertToInteractive(key) {\n",
              "          const element = document.querySelector('#df-904c8d32-6c69-43a9-a3a8-7a35e5778338');\n",
              "          const dataTable =\n",
              "            await google.colab.kernel.invokeFunction('convertToInteractive',\n",
              "                                                     [key], {});\n",
              "          if (!dataTable) return;\n",
              "\n",
              "          const docLinkHtml = 'Like what you see? Visit the ' +\n",
              "            '<a target=\"_blank\" href=https://colab.research.google.com/notebooks/data_table.ipynb>data table notebook</a>'\n",
              "            + ' to learn more about interactive tables.';\n",
              "          element.innerHTML = '';\n",
              "          dataTable['output_type'] = 'display_data';\n",
              "          await google.colab.output.renderOutput(dataTable, element);\n",
              "          const docLink = document.createElement('div');\n",
              "          docLink.innerHTML = docLinkHtml;\n",
              "          element.appendChild(docLink);\n",
              "        }\n",
              "      </script>\n",
              "    </div>\n",
              "  </div>\n",
              "  "
            ]
          },
          "metadata": {},
          "execution_count": 18
        }
      ]
    },
    {
      "cell_type": "code",
      "source": [
        "X_risco_credito = base_risco_credito.iloc[:, 0:4].values\n",
        "X_risco_credito"
      ],
      "metadata": {
        "colab": {
          "base_uri": "https://localhost:8080/"
        },
        "id": "dszjzLDr9tQT",
        "outputId": "6068aa56-e8ef-455f-bef2-6dfdb6217992"
      },
      "execution_count": null,
      "outputs": [
        {
          "output_type": "execute_result",
          "data": {
            "text/plain": [
              "array([['sim', 'solteiro', 'sim', 'alto'],\n",
              "       ['não', 'casado', 'sim', 'médio'],\n",
              "       ['não', 'solteiro', 'não', 'baixo'],\n",
              "       ['sim', 'casado', 'sim', 'alto '],\n",
              "       ['não', 'divorciado', 'não', 'médio'],\n",
              "       ['não', 'casado', 'não', 'baixo'],\n",
              "       ['sim', 'divorciado', 'sim', 'alto'],\n",
              "       ['não', 'solteiro', 'sim', 'médio'],\n",
              "       ['não', 'casado', 'sim ', 'baixo'],\n",
              "       ['não', 'solteiro', 'não', 'médio'],\n",
              "       ['sim', 'divorciado', 'não', 'médio']], dtype=object)"
            ]
          },
          "metadata": {},
          "execution_count": 19
        }
      ]
    },
    {
      "cell_type": "code",
      "source": [
        "Y_risco_credito = base_risco_credito.iloc[:, 4].values\n",
        "Y_risco_credito"
      ],
      "metadata": {
        "colab": {
          "base_uri": "https://localhost:8080/"
        },
        "id": "pCxW8JXp-Blg",
        "outputId": "339dfa55-47cc-43ee-9c9e-f1f87138a2fc"
      },
      "execution_count": null,
      "outputs": [
        {
          "output_type": "execute_result",
          "data": {
            "text/plain": [
              "array(['não', 'não', 'não', 'não', 'sim', 'não', 'sim', 'sim ', 'não',\n",
              "       'sim', 'não'], dtype=object)"
            ]
          },
          "metadata": {},
          "execution_count": 20
        }
      ]
    },
    {
      "cell_type": "code",
      "source": [
        "from sklearn.preprocessing import LabelEncoder\n",
        "label_encoder_casapropria = LabelEncoder()\n",
        "label_encoder_estadocivil = LabelEncoder()\n",
        "label_encoder_carro = LabelEncoder()\n",
        "label_encoder_rendimentos = LabelEncoder()"
      ],
      "metadata": {
        "id": "ZG1wqPRG-ETW"
      },
      "execution_count": null,
      "outputs": []
    },
    {
      "cell_type": "code",
      "source": [
        "X_risco_credito[:,0] = label_encoder_casapropria.fit_transform(X_risco_credito[:,0])\n",
        "X_risco_credito[:,1] = label_encoder_estadocivil.fit_transform(X_risco_credito[:,1])\n",
        "X_risco_credito[:,2] = label_encoder_carro.fit_transform(X_risco_credito[:,2])\n",
        "X_risco_credito[:,3] = label_encoder_rendimentos.fit_transform(X_risco_credito[:,3])"
      ],
      "metadata": {
        "id": "xlbSYXyJ-PAI"
      },
      "execution_count": null,
      "outputs": []
    },
    {
      "cell_type": "code",
      "source": [
        "X_risco_credito"
      ],
      "metadata": {
        "colab": {
          "base_uri": "https://localhost:8080/"
        },
        "id": "nNoR1jHO-Q6-",
        "outputId": "e326ef33-227a-4280-d0fd-31eb87703f29"
      },
      "execution_count": null,
      "outputs": [
        {
          "output_type": "execute_result",
          "data": {
            "text/plain": [
              "array([[1, 2, 1, 0],\n",
              "       [0, 0, 1, 3],\n",
              "       [0, 2, 0, 2],\n",
              "       [1, 0, 1, 1],\n",
              "       [0, 1, 0, 3],\n",
              "       [0, 0, 0, 2],\n",
              "       [1, 1, 1, 0],\n",
              "       [0, 2, 1, 3],\n",
              "       [0, 0, 2, 2],\n",
              "       [0, 2, 0, 3],\n",
              "       [1, 1, 0, 3]], dtype=object)"
            ]
          },
          "metadata": {},
          "execution_count": 23
        }
      ]
    },
    {
      "cell_type": "code",
      "source": [
        "import pickle\n",
        "with open('risco_crdito.pkl', 'wb') as f:\n",
        "  pickle.dump([X_risco_credito, Y_risco_credito], f)"
      ],
      "metadata": {
        "id": "gHbwnE1E-SaG"
      },
      "execution_count": null,
      "outputs": []
    },
    {
      "cell_type": "code",
      "source": [
        "naive_risco_credito = GaussianNB()\n",
        "naive_risco_credito.fit(X_risco_credito, Y_risco_credito)"
      ],
      "metadata": {
        "colab": {
          "base_uri": "https://localhost:8080/"
        },
        "id": "XgnWjUqN-T4b",
        "outputId": "a1a3e524-4958-48bb-b22b-c532c4949c64"
      },
      "execution_count": null,
      "outputs": [
        {
          "output_type": "execute_result",
          "data": {
            "text/plain": [
              "GaussianNB()"
            ]
          },
          "metadata": {},
          "execution_count": 26
        }
      ]
    },
    {
      "cell_type": "markdown",
      "source": [
        "## Queremos saber se um cliente que não possui casa própria [0], cujo estado civil é divorciado [1], possui carro [1] e tem um rendimento alto [0], é um bom pagador: "
      ],
      "metadata": {
        "id": "9K2Cu88__Vag"
      }
    },
    {
      "cell_type": "code",
      "source": [
        "previsao = naive_risco_credito.predict([[0, 1, 1, 0]])\n",
        "print(previsao)"
      ],
      "metadata": {
        "colab": {
          "base_uri": "https://localhost:8080/"
        },
        "id": "cp8IX4n8-Vze",
        "outputId": "4fe92f53-e02d-46c8-b2be-1e0c24ec80a7"
      },
      "execution_count": null,
      "outputs": [
        {
          "output_type": "stream",
          "name": "stdout",
          "text": [
            "['não']\n"
          ]
        }
      ]
    },
    {
      "cell_type": "markdown",
      "source": [
        "## Queremos saber se um cliente que possui casa própria [1], cujo estado civil é solteiro [2], não possui carro [0] e tem um rendimento alto [3], é um bom pagador: "
      ],
      "metadata": {
        "id": "Wc9DE0XA_mPu"
      }
    },
    {
      "cell_type": "code",
      "source": [
        "previsao = naive_risco_credito.predict([[1, 2, 0, 3]])\n",
        "print(previsao)"
      ],
      "metadata": {
        "colab": {
          "base_uri": "https://localhost:8080/"
        },
        "id": "0ErNF8Cb_m6o",
        "outputId": "ffc91858-a919-4c10-c6e4-e368a32d4ace"
      },
      "execution_count": null,
      "outputs": [
        {
          "output_type": "stream",
          "name": "stdout",
          "text": [
            "['sim']\n"
          ]
        }
      ]
    },
    {
      "cell_type": "markdown",
      "source": [
        "#Resposta da Questão 01:\n",
        "## O cliente de registro 12 não seria um bom pagador (NÃO) e o cliente de registro 13 seria um bom pagador(SIM)"
      ],
      "metadata": {
        "id": "wj2Zkz5l_zb0"
      }
    }
  ]
}
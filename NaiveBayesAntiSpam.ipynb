{
  "nbformat": 4,
  "nbformat_minor": 0,
  "metadata": {
    "colab": {
      "provenance": [],
      "collapsed_sections": [],
      "toc_visible": true,
      "authorship_tag": "ABX9TyNAm9dJ29vZUUWOIppqB3B0",
      "include_colab_link": true
    },
    "kernelspec": {
      "name": "python3",
      "display_name": "Python 3"
    },
    "language_info": {
      "name": "python"
    }
  },
  "cells": [
    {
      "cell_type": "markdown",
      "metadata": {
        "id": "view-in-github",
        "colab_type": "text"
      },
      "source": [
        "<a href=\"https://colab.research.google.com/github/HenriqueHideaki/RepositorioInteligenciaArtificial/blob/main/NaiveBayesAntiSpam.ipynb\" target=\"_parent\"><img src=\"https://colab.research.google.com/assets/colab-badge.svg\" alt=\"Open In Colab\"/></a>"
      ]
    },
    {
      "cell_type": "code",
      "source": [
        "import nltk\n",
        "\n",
        "from nltk.corpus import stopwords\n",
        "\n",
        "import string\n",
        "\n",
        "import pandas as pd\n",
        "\n",
        "from sklearn.model_selection import train_test_split\n",
        "from sklearn.pipeline import Pipeline\n",
        "from sklearn.feature_extraction.text import CountVectorizer\n",
        "from sklearn.feature_extraction.text import TfidfTransformer\n",
        "from sklearn.naive_bayes import MultinomialNB\n",
        "from sklearn.metrics import classification_report,confusion_matrix"
      ],
      "metadata": {
        "id": "vYXPzdMpLEdT"
      },
      "execution_count": null,
      "outputs": []
    },
    {
      "cell_type": "code",
      "source": [
        "#nltk.download('all')\n",
        "\n",
        "mensagem = pd.read_csv('spam.csv', encoding='latin-1')\n",
        "\n",
        "mensagem = mensagem.drop(['Unnamed: 2','Unnamed: 3','Unnamed: 4'], axis=1)\n",
        "\n",
        "mensagem = mensagem.rename(columns={'v1': 'tipo','v2': 'mensagem'})\n",
        "print(mensagem)"
      ],
      "metadata": {
        "colab": {
          "base_uri": "https://localhost:8080/"
        },
        "id": "IbcfJb8eLhN4",
        "outputId": "d2a6ec38-8b70-49df-948e-5e5783e703da"
      },
      "execution_count": null,
      "outputs": [
        {
          "output_type": "stream",
          "name": "stdout",
          "text": [
            "      tipo                                           mensagem\n",
            "0      ham  Go until jurong point, crazy.. Available only ...\n",
            "1      ham                      Ok lar... Joking wif u oni...\n",
            "2     spam  Free entry in 2 a wkly comp to win FA Cup fina...\n",
            "3      ham  U dun say so early hor... U c already then say...\n",
            "4      ham  Nah I don't think he goes to usf, he lives aro...\n",
            "...    ...                                                ...\n",
            "5567  spam  This is the 2nd time we have tried 2 contact u...\n",
            "5568   ham              Will Ì_ b going to esplanade fr home?\n",
            "5569   ham  Pity, * was in mood for that. So...any other s...\n",
            "5570   ham  The guy did some bitching but I acted like i'd...\n",
            "5571   ham                         Rofl. Its true to its name\n",
            "\n",
            "[5572 rows x 2 columns]\n"
          ]
        }
      ]
    },
    {
      "cell_type": "code",
      "source": [
        "def processaTexto(texto):\n",
        "    #remove pontuação caractere a caractere\n",
        "    remove_pontuacao = [char for char in texto if char not in string.punctuation]\n",
        "    #junta os caracteres em palavras novamente\n",
        "    remove_pontuacao = ''.join(remove_pontuacao)\n",
        "    \n",
        "    #nopunc.split() separa cada frase em palavras, retirando as que estão dentro de stopwords\n",
        "    #word.lower() torna todas as letras minúsculas\n",
        "    #essa linha remove as stopwords, retornando apenas as palavras relevantes para a análise\n",
        "    frase_limpa = [word for word in remove_pontuacao.split() if word.lower() not in stopwords.words('english')]\n",
        "        \n",
        "    return frase_limpa\n"
      ],
      "metadata": {
        "id": "4rIrw4wQYufH"
      },
      "execution_count": null,
      "outputs": []
    },
    {
      "cell_type": "markdown",
      "source": [
        "## Análise Estatisticas, quantidade de caracteres em cada sms"
      ],
      "metadata": {
        "id": "aKBxDlHUOdsU"
      }
    },
    {
      "cell_type": "code",
      "source": [
        "#print(mensagem.groupby('tipo').describe().iloc[0])\n",
        "\n",
        "mensagem['length'] = mensagem['mensagem'].apply(len)\n",
        "\n",
        "\n",
        "#print(messages.iloc[:,2])\n",
        "\n",
        "#desenha um gráfico do número de mensagens pelo tamanho\n",
        "#podemos ver pela figura que as mensagens não spam (ham) possuem mensagens com menos de\n",
        "#200 caracteres (em média 100 para ser preciso), já as mensagens SPAM tendem a ser\n",
        "#maiores do que 100, oscilando entre 130 e 140\n",
        "#mensagem.hist(column='length',by='tipo', bins=60, figsize=(15,6))\n",
        "\n",
        "\n",
        "mensagem['mensagem'].apply(processaTexto)\n",
        "msg_train, msg_test, class_train, class_test = train_test_split(mensagem['mensagem'], mensagem['tipo'], test_size=0.1)\n",
        "pipeline = Pipeline([\n",
        "    ('bow', CountVectorizer(analyzer = processaTexto)),\n",
        "    ('tfidf', TfidfTransformer()),\n",
        "    ('classifier', MultinomialNB())\n",
        "])\n",
        "\n",
        "\n",
        "pipeline.fit(msg_train, class_train)\n",
        "\n",
        "predictions = pipeline.predict(msg_test)\n",
        "\n",
        "print(classification_report(class_test, predictions))\n",
        "\n",
        "\n",
        "\n"
      ],
      "metadata": {
        "colab": {
          "base_uri": "https://localhost:8080/"
        },
        "id": "umKiKktUOgjo",
        "outputId": "2fec033a-1c32-42c9-f4c4-cbcbfb995f45"
      },
      "execution_count": null,
      "outputs": [
        {
          "output_type": "stream",
          "name": "stdout",
          "text": [
            "              precision    recall  f1-score   support\n",
            "\n",
            "         ham       0.96      1.00      0.98       486\n",
            "        spam       1.00      0.75      0.86        72\n",
            "\n",
            "    accuracy                           0.97       558\n",
            "   macro avg       0.98      0.88      0.92       558\n",
            "weighted avg       0.97      0.97      0.97       558\n",
            "\n"
          ]
        }
      ]
    }
  ]
}
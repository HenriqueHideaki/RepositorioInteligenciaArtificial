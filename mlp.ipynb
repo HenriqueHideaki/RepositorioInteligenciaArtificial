{
  "nbformat": 4,
  "nbformat_minor": 0,
  "metadata": {
    "colab": {
      "provenance": [],
      "collapsed_sections": [],
      "authorship_tag": "ABX9TyOxDqJ56CJ43IGLqaeZIaKS",
      "include_colab_link": true
    },
    "kernelspec": {
      "name": "python3",
      "display_name": "Python 3"
    },
    "language_info": {
      "name": "python"
    }
  },
  "cells": [
    {
      "cell_type": "markdown",
      "metadata": {
        "id": "view-in-github",
        "colab_type": "text"
      },
      "source": [
        "<a href=\"https://colab.research.google.com/github/HenriqueHideaki/RepositorioInteligenciaArtificial/blob/main/mlp.ipynb\" target=\"_parent\"><img src=\"https://colab.research.google.com/assets/colab-badge.svg\" alt=\"Open In Colab\"/></a>"
      ]
    },
    {
      "cell_type": "markdown",
      "source": [
        "Perceptron de Múltiplas Camadas\n"
      ],
      "metadata": {
        "id": "jUSDIdcg63K_"
      }
    },
    {
      "cell_type": "markdown",
      "source": [
        "#Enunciado\n",
        "##Dado uma rede di tipo Perceptron formada por um neurônio com 3 terminais de entrada, utilizando os pesos inicias w0=0.4, w1=-0.6 e w2=0.6, limiar(Theta)=0.5 e uma taxa de aprendizado de = 0.4. Considere que o limiar será sempre multiplicado por -1. responda os itens:\n",
        "\n",
        "\n",
        "*   a) Ensinar a rede a gerar a saída -1 para o padrão 001 e a saída + para os padrão 11;\n",
        "*   b) A que classe pertencem os padrões 111,000,100 e 001?\n",
        "\n"
      ],
      "metadata": {
        "id": "EL1mMHJcGbsE"
      }
    },
    {
      "cell_type": "code",
      "execution_count": 2,
      "metadata": {
        "colab": {
          "base_uri": "https://localhost:8080/"
        },
        "id": "ZfifQOFp6ylA",
        "outputId": "5a388639-4372-4981-dfff-957c5f54fb33"
      },
      "outputs": [
        {
          "output_type": "stream",
          "name": "stdout",
          "text": [
            "[0 0 1]\n"
          ]
        }
      ],
      "source": [
        "import numpy as np\n",
        "\n",
        "\n",
        "#Dados iniciais\n",
        "#Base de Dados\n",
        "# Classe -1\n",
        "A = np.array([0,0,1])\n",
        "# Classe 1\n",
        "B = np.array([1,1,0])\n",
        "# Pesos Iniciais\n",
        "Pesos = np.array([0.4, -0.6, 0.6])\n",
        "#Taxa de aprendizagem \n",
        "eta = 0.4\n",
        "# Viés\n",
        "bias = 0.5\n",
        "\n"
      ]
    },
    {
      "cell_type": "code",
      "source": [
        "# Função para a soma ponderada\n",
        "# u = x0*wo + x1*w1 + x2*w2 - 1*Theta\n",
        "# m = x0*w0 + x1*w1 + x2*w2\n",
        "# u = m - 1*Theta\n",
        "def somaPonderada(X,W):\n",
        "  bias = 0.5\n",
        "  m = np.multiply(X,W)\n",
        "  u = np.sum(m) - 1*bias\n",
        "  return u\n",
        "\n"
      ],
      "metadata": {
        "id": "FGq7qT2FGWWi"
      },
      "execution_count": 3,
      "outputs": []
    },
    {
      "cell_type": "code",
      "source": [
        "#Função de Ativação\n",
        "#Função Degrau\n",
        "def funcaoAtivacao(u):\n",
        "  if u >= 0:\n",
        "    return 1\n",
        "  else:\n",
        "    return -1"
      ],
      "metadata": {
        "id": "HjiaLHfXIe6w"
      },
      "execution_count": null,
      "outputs": []
    },
    {
      "cell_type": "code",
      "source": [
        "#Função de Saída\n",
        "\n",
        "def saida(X,W):\n",
        "  u = somaPonderada(X,W)\n",
        "  return funcaoAtivacao(u)"
      ],
      "metadata": {
        "id": "uHftLloQIvGd"
      },
      "execution_count": null,
      "outputs": []
    },
    {
      "cell_type": "code",
      "source": [
        "# Função para os ajustes dos pesos\n",
        "# Parte central do processo de aprendizagem\n",
        "# novo wi -> wi = wi + n xi (d-y)\n",
        "def ajustaPesos(eta,W,X,bias,d,y):\n",
        "  e = d - y\n",
        "  novoW = W + eta*X*e\n",
        "  novoB = bias + eta*(-1)*e\n",
        "  return novoW, novoB"
      ],
      "metadata": {
        "id": "1HHG-wvHJEJj"
      },
      "execution_count": null,
      "outputs": []
    }
  ]
}
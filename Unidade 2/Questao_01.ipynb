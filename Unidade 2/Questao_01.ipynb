{
 "cells": [
  {
   "cell_type": "markdown",
   "metadata": {},
   "source": [
    "<p align=\"center\">\n",
    "  <img src=\"Unidade 2/img/q1.png\" width=\"150\" alt=\"accessibility text\">\n",
    "</p>"
   ]
  }
 ],
 "metadata": {
  "kernelspec": {
   "display_name": "Python 3.10.7 64-bit",
   "language": "python",
   "name": "python3"
  },
  "language_info": {
   "name": "python",
   "version": "3.10.7"
  },
  "orig_nbformat": 4,
  "vscode": {
   "interpreter": {
    "hash": "afe71ca7b55913be3354ab8839eaad75a2a97bb689e31410fdb5a2dd6f7277f5"
   }
  }
 },
 "nbformat": 4,
 "nbformat_minor": 2
}
